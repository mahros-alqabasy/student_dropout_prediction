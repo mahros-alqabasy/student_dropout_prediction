{
 "cells": [
  {
   "cell_type": "code",
   "execution_count": 1,
   "metadata": {},
   "outputs": [
    {
     "name": "stderr",
     "output_type": "stream",
     "text": [
      "C:\\Users\\Pratheesh\\Anaconda3\\lib\\site-packages\\gensim\\utils.py:1197: UserWarning: detected Windows; aliasing chunkize to chunkize_serial\n",
      "  warnings.warn(\"detected Windows; aliasing chunkize to chunkize_serial\")\n"
     ]
    }
   ],
   "source": [
    "## Import libraries\n",
    "import numpy as np\n",
    "import pandas as pd\n",
    "import matplotlib.pyplot as plt\n",
    "import seaborn as sns\n",
    "%matplotlib inline\n",
    "import sqlite3    ## SQL Interface\n",
    "import pickle     ## Used to save your data - Converts objects to byte stream and vice versa\n",
    "\n",
    "from sklearn.feature_extraction.text import CountVectorizer  ## BOW Model\n",
    "from sklearn.feature_extraction.text import TfidfVectorizer  ## TFIDF Model\n",
    "\n",
    "import gensim    ## To build Word2Vec model\n",
    "from sklearn.model_selection import GridSearchCV\n",
    "from sklearn.linear_model import LogisticRegression"
   ]
  },
  {
   "cell_type": "code",
   "execution_count": 2,
   "metadata": {
    "collapsed": true
   },
   "outputs": [],
   "source": [
    "from sklearn.naive_bayes import MultinomialNB    #Multinomial Naive - Bayes\n",
    "\n",
    "from sklearn.preprocessing import StandardScaler\n",
    "from sklearn.model_selection import train_test_split\n",
    "from sklearn.neighbors import KNeighborsClassifier\n",
    "from matplotlib.colors import ListedColormap\n",
    "from sklearn.model_selection import cross_val_score\n",
    "from sklearn.metrics import accuracy_score\n",
    "from sklearn.metrics import confusion_matrix\n"
   ]
  },
  {
   "cell_type": "code",
   "execution_count": 4,
   "metadata": {},
   "outputs": [
    {
     "data": {
      "text/html": [
       "<div>\n",
       "<style>\n",
       "    .dataframe thead tr:only-child th {\n",
       "        text-align: right;\n",
       "    }\n",
       "\n",
       "    .dataframe thead th {\n",
       "        text-align: left;\n",
       "    }\n",
       "\n",
       "    .dataframe tbody tr th {\n",
       "        vertical-align: top;\n",
       "    }\n",
       "</style>\n",
       "<table border=\"1\" class=\"dataframe\">\n",
       "  <thead>\n",
       "    <tr style=\"text-align: right;\">\n",
       "      <th></th>\n",
       "      <th>SEM 1 SGPA</th>\n",
       "      <th>SEM 1 KT</th>\n",
       "      <th>SEM 2 SGPA</th>\n",
       "      <th>SEM 2 KT</th>\n",
       "      <th>SEM 3 SGPA</th>\n",
       "      <th>SEM 3 KT</th>\n",
       "      <th>SEM 4 SGPA</th>\n",
       "      <th>SEM 4 KT</th>\n",
       "      <th>SEM 5 SGPA</th>\n",
       "      <th>SEM 5 KT</th>\n",
       "      <th>...</th>\n",
       "      <th>2_hrs_lect</th>\n",
       "      <th>Submissions</th>\n",
       "      <th>5_hrs_lect</th>\n",
       "      <th>5_hrs_pracs</th>\n",
       "      <th>Coaching_classes</th>\n",
       "      <th>Teacher's Feedback</th>\n",
       "      <th>Label</th>\n",
       "      <th>Scocial_Skills</th>\n",
       "      <th>Average pointer</th>\n",
       "      <th>Cleaned_Feedback</th>\n",
       "    </tr>\n",
       "  </thead>\n",
       "  <tbody>\n",
       "    <tr>\n",
       "      <th>0</th>\n",
       "      <td>7.10</td>\n",
       "      <td>0</td>\n",
       "      <td>6.85</td>\n",
       "      <td>0</td>\n",
       "      <td>7.20</td>\n",
       "      <td>1.0</td>\n",
       "      <td>7.30</td>\n",
       "      <td>0.0</td>\n",
       "      <td>7.60</td>\n",
       "      <td>0</td>\n",
       "      <td>...</td>\n",
       "      <td>0</td>\n",
       "      <td>0</td>\n",
       "      <td>0</td>\n",
       "      <td>0</td>\n",
       "      <td>0</td>\n",
       "      <td>Disciplined and hard working</td>\n",
       "      <td>1</td>\n",
       "      <td>0</td>\n",
       "      <td>7.13125</td>\n",
       "      <td>disciplin hard work</td>\n",
       "    </tr>\n",
       "    <tr>\n",
       "      <th>1</th>\n",
       "      <td>7.20</td>\n",
       "      <td>0</td>\n",
       "      <td>7.10</td>\n",
       "      <td>0</td>\n",
       "      <td>6.11</td>\n",
       "      <td>0.0</td>\n",
       "      <td>6.67</td>\n",
       "      <td>0.0</td>\n",
       "      <td>7.14</td>\n",
       "      <td>0</td>\n",
       "      <td>...</td>\n",
       "      <td>1</td>\n",
       "      <td>1</td>\n",
       "      <td>0</td>\n",
       "      <td>0</td>\n",
       "      <td>1</td>\n",
       "      <td>Good leadership skills</td>\n",
       "      <td>1</td>\n",
       "      <td>1</td>\n",
       "      <td>7.05375</td>\n",
       "      <td>good leadership skill</td>\n",
       "    </tr>\n",
       "    <tr>\n",
       "      <th>2</th>\n",
       "      <td>3.80</td>\n",
       "      <td>4</td>\n",
       "      <td>4.20</td>\n",
       "      <td>2</td>\n",
       "      <td>4.20</td>\n",
       "      <td>1.0</td>\n",
       "      <td>3.80</td>\n",
       "      <td>2.0</td>\n",
       "      <td>4.35</td>\n",
       "      <td>0</td>\n",
       "      <td>...</td>\n",
       "      <td>0</td>\n",
       "      <td>1</td>\n",
       "      <td>0</td>\n",
       "      <td>0</td>\n",
       "      <td>0</td>\n",
       "      <td>Very talkative and Poor attendance</td>\n",
       "      <td>0</td>\n",
       "      <td>0</td>\n",
       "      <td>4.05875</td>\n",
       "      <td>talkat poor attend</td>\n",
       "    </tr>\n",
       "    <tr>\n",
       "      <th>3</th>\n",
       "      <td>6.91</td>\n",
       "      <td>1</td>\n",
       "      <td>6.60</td>\n",
       "      <td>2</td>\n",
       "      <td>5.82</td>\n",
       "      <td>1.0</td>\n",
       "      <td>6.10</td>\n",
       "      <td>0.0</td>\n",
       "      <td>7.71</td>\n",
       "      <td>0</td>\n",
       "      <td>...</td>\n",
       "      <td>0</td>\n",
       "      <td>1</td>\n",
       "      <td>0</td>\n",
       "      <td>1</td>\n",
       "      <td>0</td>\n",
       "      <td>Respectful to Authority and Others</td>\n",
       "      <td>1</td>\n",
       "      <td>0</td>\n",
       "      <td>6.50500</td>\n",
       "      <td>respect author other</td>\n",
       "    </tr>\n",
       "    <tr>\n",
       "      <th>4</th>\n",
       "      <td>3.50</td>\n",
       "      <td>1</td>\n",
       "      <td>3.40</td>\n",
       "      <td>2</td>\n",
       "      <td>4.00</td>\n",
       "      <td>2.0</td>\n",
       "      <td>4.10</td>\n",
       "      <td>2.0</td>\n",
       "      <td>3.63</td>\n",
       "      <td>0</td>\n",
       "      <td>...</td>\n",
       "      <td>0</td>\n",
       "      <td>0</td>\n",
       "      <td>0</td>\n",
       "      <td>0</td>\n",
       "      <td>0</td>\n",
       "      <td>Bunk lectuer</td>\n",
       "      <td>0</td>\n",
       "      <td>0</td>\n",
       "      <td>3.81500</td>\n",
       "      <td>bunk lectuer</td>\n",
       "    </tr>\n",
       "  </tbody>\n",
       "</table>\n",
       "<p>5 rows × 32 columns</p>\n",
       "</div>"
      ],
      "text/plain": [
       "   SEM 1 SGPA  SEM 1 KT  SEM 2 SGPA  SEM 2 KT  SEM 3 SGPA  SEM 3 KT  \\\n",
       "0        7.10         0        6.85         0        7.20       1.0   \n",
       "1        7.20         0        7.10         0        6.11       0.0   \n",
       "2        3.80         4        4.20         2        4.20       1.0   \n",
       "3        6.91         1        6.60         2        5.82       1.0   \n",
       "4        3.50         1        3.40         2        4.00       2.0   \n",
       "\n",
       "   SEM 4 SGPA  SEM 4 KT  SEM 5 SGPA  SEM 5 KT          ...            \\\n",
       "0        7.30       0.0        7.60         0          ...             \n",
       "1        6.67       0.0        7.14         0          ...             \n",
       "2        3.80       2.0        4.35         0          ...             \n",
       "3        6.10       0.0        7.71         0          ...             \n",
       "4        4.10       2.0        3.63         0          ...             \n",
       "\n",
       "   2_hrs_lect  Submissions  5_hrs_lect  5_hrs_pracs  Coaching_classes  \\\n",
       "0           0            0           0            0                 0   \n",
       "1           1            1           0            0                 1   \n",
       "2           0            1           0            0                 0   \n",
       "3           0            1           0            1                 0   \n",
       "4           0            0           0            0                 0   \n",
       "\n",
       "                   Teacher's Feedback  Label  Scocial_Skills  Average pointer  \\\n",
       "0        Disciplined and hard working      1               0          7.13125   \n",
       "1              Good leadership skills      1               1          7.05375   \n",
       "2  Very talkative and Poor attendance      0               0          4.05875   \n",
       "3  Respectful to Authority and Others      1               0          6.50500   \n",
       "4                        Bunk lectuer      0               0          3.81500   \n",
       "\n",
       "        Cleaned_Feedback  \n",
       "0    disciplin hard work  \n",
       "1  good leadership skill  \n",
       "2     talkat poor attend  \n",
       "3   respect author other  \n",
       "4           bunk lectuer  \n",
       "\n",
       "[5 rows x 32 columns]"
      ]
     },
     "execution_count": 4,
     "metadata": {},
     "output_type": "execute_result"
    }
   ],
   "source": [
    "conn = sqlite3.connect('final.sqlite')  #Loading the sqlite file for future use\n",
    "final = pd.read_sql_query(\"\"\"SELECT * FROM Reviews\"\"\", conn)\n",
    "conn.close()\n",
    "final.drop(['index'],axis=1,inplace = True)\n",
    "final.head()"
   ]
  },
  {
   "cell_type": "code",
   "execution_count": 7,
   "metadata": {
    "scrolled": true
   },
   "outputs": [
    {
     "data": {
      "text/plain": [
       "(262, 32)"
      ]
     },
     "execution_count": 7,
     "metadata": {},
     "output_type": "execute_result"
    }
   ],
   "source": [
    "final.shape"
   ]
  },
  {
   "cell_type": "code",
   "execution_count": 28,
   "metadata": {},
   "outputs": [
    {
     "data": {
      "text/plain": [
       "Index(['SEM 1 SGPA', 'SEM 1 KT', 'SEM 2 SGPA', 'SEM 2 KT', 'SEM 3 SGPA',\n",
       "       'SEM 3 KT', 'SEM 4 SGPA', 'SEM 4 KT', 'SEM 5 SGPA', 'SEM 5 KT',\n",
       "       'SEM 6 SGPA', 'SEM 6 KT', 'SEM 7 SGPA', 'SEM 7 KT', 'SEM 8 SGPA',\n",
       "       'Hours_On_Assignment', 'Hours_On_Studies', 'Travel_Time', 'Attendance',\n",
       "       'Internet_Availability', 'Internet_Speed', 'Mode_Of_Transportation',\n",
       "       '2_hrs_lect', 'Submissions', '5_hrs_lect', '5_hrs_pracs',\n",
       "       'Coaching_classes', 'Teacher's Feedback', 'Label', 'Scocial_Skills',\n",
       "       'Average pointer', 'Cleaned_Feedback'],\n",
       "      dtype='object')"
      ]
     },
     "execution_count": 28,
     "metadata": {},
     "output_type": "execute_result"
    }
   ],
   "source": [
    "final.columns"
   ]
  },
  {
   "cell_type": "code",
   "execution_count": 5,
   "metadata": {
    "collapsed": true
   },
   "outputs": [],
   "source": [
    "bow_vect = CountVectorizer()\n",
    "bow = bow_vect.fit_transform(final[\"Cleaned_Feedback\"].values)"
   ]
  },
  {
   "cell_type": "code",
   "execution_count": 6,
   "metadata": {},
   "outputs": [
    {
     "data": {
      "text/plain": [
       "(262, 40)"
      ]
     },
     "execution_count": 6,
     "metadata": {},
     "output_type": "execute_result"
    }
   ],
   "source": [
    "bow.shape"
   ]
  },
  {
   "cell_type": "code",
   "execution_count": 9,
   "metadata": {},
   "outputs": [
    {
     "data": {
      "text/plain": [
       "(262, 40)"
      ]
     },
     "execution_count": 9,
     "metadata": {},
     "output_type": "execute_result"
    }
   ],
   "source": [
    "tf_idf_vect = TfidfVectorizer()\n",
    "tf_idf = tf_idf_vect.fit_transform(final[\"Cleaned_Feedback\"].values)\n",
    "tf_idf.shape"
   ]
  },
  {
   "cell_type": "code",
   "execution_count": 10,
   "metadata": {
    "collapsed": true
   },
   "outputs": [],
   "source": [
    "with open('list_of_sent_for_input_to_w2v.pkl','rb') as pickle_file:  #reading the pickle file saved earlier\n",
    "    list_of_sent = pickle.load(pickle_file)"
   ]
  },
  {
   "cell_type": "code",
   "execution_count": 11,
   "metadata": {
    "collapsed": true
   },
   "outputs": [],
   "source": [
    "w2v_model = gensim.models.Word2Vec(list_of_sent, min_count = 5, size = 50, workers = -1) #Creating w2v model"
   ]
  },
  {
   "cell_type": "code",
   "execution_count": 12,
   "metadata": {},
   "outputs": [
    {
     "name": "stdout",
     "output_type": "stream",
     "text": [
      "39\n"
     ]
    }
   ],
   "source": [
    "words = list(w2v_model.wv.vocab)\n",
    "print(len(words))"
   ]
  },
  {
   "cell_type": "code",
   "execution_count": 13,
   "metadata": {
    "collapsed": true
   },
   "outputs": [],
   "source": [
    "'''\n",
    "This is a function to calculate average w2v\n",
    "'''\n",
    "def cal_avg_w2v(list_of_sent, w2v_model):\n",
    "    sent_vectors = []   #Creating an empty list\n",
    "    for sent in list_of_sent:\n",
    "        sent_vec = np.zeros(50)  #Initializing the sentence vector to 0 \n",
    "        cnt_words = 0\n",
    "        for word in sent:\n",
    "            try:\n",
    "                vec = w2v_model.wv[word]  #Calculating the word vector using w2v\n",
    "                sent_vec += vec   #Add the word vector into sentence vector\n",
    "                cnt_words +=1     #Sum of all the word counts\n",
    "            except:\n",
    "                pass\n",
    "        sent_vec /= cnt_words     #To find the sentence vector\n",
    "        sent_vectors.append(sent_vec)  #Adding sentence vector to final list\n",
    "    return sent_vectors"
   ]
  },
  {
   "cell_type": "code",
   "execution_count": 14,
   "metadata": {
    "collapsed": true
   },
   "outputs": [],
   "source": [
    "w2v_model = gensim.models.Word2Vec(list_of_sent, min_count = 5, size = 50, workers = 4)"
   ]
  },
  {
   "cell_type": "code",
   "execution_count": 15,
   "metadata": {},
   "outputs": [
    {
     "name": "stderr",
     "output_type": "stream",
     "text": [
      "C:\\Users\\Pratheesh\\Anaconda3\\lib\\site-packages\\ipykernel_launcher.py:16: RuntimeWarning: invalid value encountered in true_divide\n",
      "  app.launch_new_instance()\n"
     ]
    }
   ],
   "source": [
    "sent_vectors = cal_avg_w2v(list_of_sent, w2v_model)  #calling the above function"
   ]
  },
  {
   "cell_type": "code",
   "execution_count": 16,
   "metadata": {},
   "outputs": [
    {
     "data": {
      "text/plain": [
       "array([  2.30403415e-03,   2.99065219e-03,  -4.07876757e-04,\n",
       "        -2.60470249e-03,   2.96582204e-03,  -5.68035788e-03,\n",
       "        -1.27553971e-03,   1.08485044e-03,   6.24432244e-03,\n",
       "         2.21919455e-03,   8.80717494e-04,  -5.45348429e-04,\n",
       "        -3.34404642e-04,  -1.84056008e-03,   4.31437821e-04,\n",
       "        -3.66837489e-03,  -2.84070460e-04,  -1.40320871e-03,\n",
       "        -4.94369461e-04,   4.34208937e-03,   3.32159669e-03,\n",
       "         1.28108117e-03,   1.92534660e-03,  -4.71431145e-03,\n",
       "        -2.38795796e-03,  -8.33113270e-04,  -5.43230609e-03,\n",
       "         1.28510781e-03,   4.76304915e-03,  -1.79629036e-03,\n",
       "        -1.59521702e-03,  -1.34277623e-03,  -7.62412131e-04,\n",
       "         5.45015753e-04,   4.20565453e-03,   3.90751435e-03,\n",
       "         2.54688707e-03,   4.48280751e-03,   1.32052880e-03,\n",
       "        -3.03055998e-03,  -8.09190624e-03,  -6.57206401e-04,\n",
       "        -3.31447880e-03,  -1.49026814e-03,  -1.86165748e-03,\n",
       "         1.29965624e-03,  -2.51259189e-05,   1.05622504e-03,\n",
       "        -2.46583282e-03,   3.84836427e-03])"
      ]
     },
     "execution_count": 16,
     "metadata": {},
     "output_type": "execute_result"
    }
   ],
   "source": [
    "sent_vectors[0]"
   ]
  },
  {
   "cell_type": "code",
   "execution_count": 17,
   "metadata": {
    "collapsed": true
   },
   "outputs": [],
   "source": [
    "with open('sent_vec_avg_w2v.pkl','wb') as pickle_file:  #Saving as pickle file\n",
    "    pickle.dump(sent_vectors,pickle_file)"
   ]
  },
  {
   "cell_type": "code",
   "execution_count": 18,
   "metadata": {
    "collapsed": true
   },
   "outputs": [],
   "source": [
    "with open('sent_vec_avg_w2v.pkl','rb') as pickle_file:  #Loading for future use\n",
    "    sent_vectors = pickle.load(pickle_file)"
   ]
  },
  {
   "cell_type": "code",
   "execution_count": 19,
   "metadata": {
    "collapsed": true
   },
   "outputs": [],
   "source": [
    "sent_vec_array= np.array(sent_vectors)    #Converting the list into numpy array"
   ]
  },
  {
   "cell_type": "code",
   "execution_count": 20,
   "metadata": {
    "collapsed": true
   },
   "outputs": [],
   "source": [
    "sent_vec_array = sent_vec_array[~np.isnan(sent_vec_array).any(axis=1)]   #Removing any NaN value if present in the numpy array"
   ]
  },
  {
   "cell_type": "code",
   "execution_count": 22,
   "metadata": {
    "collapsed": true
   },
   "outputs": [],
   "source": [
    "'''\n",
    "This function calculates TF - IDF weighted average W2V\n",
    "It takes in 4 parameters as follows:\n",
    "       1. list_of_sent - This is the list of sentences/reviews for which sentence vetors are to be constructed\n",
    "       2. w2v_model - This is the Word2Vec model which is trained on the working corpus - contains the word vectors\n",
    "       3. tf_idf - This is the TF-IDF model built using the same reviews/sentences - it is the TF-IDF sparse matrix\n",
    "       4. tfidf_feat - This is the feature vector constructed from the TF-IDF model\n",
    "       \n",
    "       Return Value:\n",
    "       tfidf_sent_vectors - This is a list of sentence/review vectors constructed by using tfidf weighted average on the word vectors\n",
    "'''\n",
    "def cal_tfidf_avg_w2v(list_of_sent, w2v_model, tf_idf,tfidf_feat):\n",
    "    tfidf_sent_vectors = []\n",
    "    row = 0\n",
    "    for sent in list_of_sent:\n",
    "        sent_vec = np.zeros(50)\n",
    "        weighted_sum = 0\n",
    "        for word in sent:\n",
    "            try:\n",
    "                vec = w2v_model.wv[word]\n",
    "                tfidf = tf_idf[row, tfidf_feat.index(word)]\n",
    "                sent_vec += vec*tfidf\n",
    "                weighted_sum += tfidf\n",
    "            except:\n",
    "                pass\n",
    "        print(row, weighted_sum)\n",
    "        sent_vec /= weighted_sum\n",
    "        tfidf_sent_vectors.append(sent_vec)\n",
    "        row +=1\n",
    "    return tfidf_sent_vectors"
   ]
  },
  {
   "cell_type": "code",
   "execution_count": 23,
   "metadata": {
    "collapsed": true
   },
   "outputs": [],
   "source": [
    "tf_idf_vect = TfidfVectorizer()\n",
    "tf_idf = tf_idf_vect.fit_transform(final['Cleaned_Feedback'].values)\n",
    "tfidf_feat = tf_idf_vect.get_feature_names()\n",
    "w2v_model = gensim.models.Word2Vec(list_of_sent, min_count = 5, size = 50, workers = -1)"
   ]
  },
  {
   "cell_type": "code",
   "execution_count": 24,
   "metadata": {},
   "outputs": [
    {
     "name": "stdout",
     "output_type": "stream",
     "text": [
      "0 1.73200075593\n",
      "1 1.72538741739\n",
      "2 1.72725051071\n",
      "3 1.73205080757\n",
      "4 1.41421356237\n",
      "5 1.98249498453\n",
      "6 1.41330405095\n",
      "7 1.0\n",
      "8 1.40643857653\n",
      "9 1.41330405095\n",
      "10 1.41421356237\n",
      "11 1.73147774933\n",
      "12 0\n",
      "13 1.41330405095\n",
      "14 1.73135637234\n",
      "15 1.73200075593\n",
      "16 1.41421356237\n",
      "17 1.41421356237\n",
      "18 1.99996673885\n",
      "19 1.41330405095\n",
      "20 1.73147774933\n",
      "21 1.39275051067\n",
      "22 1.99996673885\n",
      "23 1.0\n",
      "24 1.99226947089\n",
      "25 1.41421356237\n",
      "26 1.98249498453\n",
      "27 1.41421356237\n",
      "28 0\n",
      "29 1.73205080757\n",
      "30 1.99982939022\n",
      "31 1.72538741739\n",
      "32 1.99982939022\n",
      "33 0\n",
      "34 1.41330405095\n",
      "35 1.41421356237\n",
      "36 0\n",
      "37 1.40643857653\n",
      "38 1.41421356237\n",
      "39 1.73200075593\n",
      "40 1.40643857653\n",
      "41 1.73205080757\n",
      "42 1.72538741739\n",
      "43 1.98249498453\n",
      "44 1.99996673885\n",
      "45 1.40643857653\n",
      "46 1.73135637234\n",
      "47 1.41330405095\n",
      "48 1.41421356237\n",
      "49 1.73200075593\n",
      "50 1.72538741739\n",
      "51 1.41421356237\n",
      "52 1.73200075593\n",
      "53 1.41421356237\n",
      "54 1.41421356237\n",
      "55 1.99226947089\n",
      "56 1.99996673885\n",
      "57 1.0\n",
      "58 1.41421356237\n",
      "59 1.0\n",
      "60 1.0\n",
      "61 1.73205080757\n",
      "62 0\n",
      "63 1.98249498453\n",
      "64 1.41421356237\n",
      "65 1.41330405095\n",
      "66 1.41421356237\n",
      "67 1.99982939022\n",
      "68 1.73205080757\n",
      "69 1.73147774933\n",
      "70 1.41330405095\n",
      "71 1.73205080757\n",
      "72 1.41330405095\n",
      "73 1.41421356237\n",
      "74 0\n",
      "75 1.73147774933\n",
      "76 1.99996673885\n",
      "77 1.0\n",
      "78 1.41421356237\n",
      "79 1.73200075593\n",
      "80 1.39275051067\n",
      "81 1.72538741739\n",
      "82 1.99226947089\n",
      "83 1.41421356237\n",
      "84 1.41421356237\n",
      "85 1.72538741739\n",
      "86 1.99982939022\n",
      "87 1.41421356237\n",
      "88 1.72725051071\n",
      "89 1.73200075593\n",
      "90 1.0\n",
      "91 1.98249498453\n",
      "92 1.73205080757\n",
      "93 1.73205080757\n",
      "94 1.41421356237\n",
      "95 1.99996673885\n",
      "96 1.99226947089\n",
      "97 1.41421356237\n",
      "98 1.73147774933\n",
      "99 1.41330405095\n",
      "100 1.41421356237\n",
      "101 1.99996673885\n",
      "102 1.73200075593\n",
      "103 1.41421356237\n",
      "104 1.41421356237\n",
      "105 1.99982939022\n",
      "106 1.72538741739\n",
      "107 1.0\n",
      "108 1.40643857653\n",
      "109 1.73200075593\n",
      "110 1.99226947089\n",
      "111 1.41421356237\n",
      "112 0\n",
      "113 1.73135637234\n",
      "114 1.98249498453\n",
      "115 1.73135637234\n",
      "116 1.41421356237\n",
      "117 1.99996673885\n",
      "118 1.99982939022\n",
      "119 1.73205080757\n",
      "120 1.0\n",
      "121 1.73205080757\n",
      "122 1.73205080757\n",
      "123 1.41421356237\n",
      "124 1.41421356237\n",
      "125 1.41421356237\n",
      "126 1.72538741739\n",
      "127 1.41421356237\n",
      "128 1.99996673885\n",
      "129 1.41421356237\n",
      "130 1.41421356237\n",
      "131 1.72538741739\n",
      "132 1.73205080757\n",
      "133 1.99996673885\n",
      "134 1.99982939022\n",
      "135 1.73147774933\n",
      "136 0.463553577668\n",
      "137 1.99226947089\n",
      "138 1.73205080757\n",
      "139 1.40643857653\n",
      "140 1.41421356237\n",
      "141 0\n",
      "142 1.41421356237\n",
      "143 1.41421356237\n",
      "144 1.41421356237\n",
      "145 1.73205080757\n",
      "146 1.99996673885\n",
      "147 1.41421356237\n",
      "148 1.99226947089\n",
      "149 1.73205080757\n",
      "150 1.39275051067\n",
      "151 1.73205080757\n",
      "152 1.40643857653\n",
      "153 1.41330405095\n",
      "154 1.72538741739\n",
      "155 1.72538741739\n",
      "156 1.41421356237\n",
      "157 0\n",
      "158 1.39275051067\n",
      "159 1.73200075593\n",
      "160 1.0\n",
      "161 1.40643857653\n",
      "162 1.41421356237\n",
      "163 1.41421356237\n",
      "164 1.41421356237\n",
      "165 1.41421356237\n",
      "166 1.41421356237\n",
      "167 1.73205080757\n",
      "168 1.99226947089\n",
      "169 1.73205080757\n",
      "170 1.0\n",
      "171 0\n",
      "172 1.72725051071\n",
      "173 1.40643857653\n",
      "174 1.99996673885\n",
      "175 1.41421356237\n",
      "176 1.99226947089\n",
      "177 1.72538741739\n",
      "178 1.99996673885\n",
      "179 1.72538741739\n",
      "180 1.41421356237\n",
      "181 1.73205080757\n",
      "182 1.73147774933\n",
      "183 1.73200075593\n",
      "184 1.0\n",
      "185 1.73200075593\n",
      "186 1.41421356237\n",
      "187 1.73200075593\n",
      "188 1.41421356237\n",
      "189 1.41421356237\n",
      "190 1.99226947089\n",
      "191 1.73200075593\n",
      "192 1.0\n",
      "193 1.41330405095\n",
      "194 0\n",
      "195 1.41421356237\n",
      "196 1.41330405095\n",
      "197 1.0\n",
      "198 1.99996673885\n",
      "199 1.73147774933\n",
      "200 1.0\n",
      "201 1.40643857653\n",
      "202 1.72538741739\n",
      "203 1.41330405095\n",
      "204 1.41330405095\n",
      "205 1.0\n",
      "206 1.99996673885\n",
      "207 1.73205080757\n",
      "208 1.40643857653\n",
      "209 1.41421356237\n",
      "210 1.99226947089\n",
      "211 1.39275051067\n",
      "212 1.41330405095\n",
      "213 1.41330405095\n",
      "214 1.40643857653\n",
      "215 1.41421356237\n",
      "216 1.41330405095\n",
      "217 1.41421356237\n",
      "218 1.73205080757\n",
      "219 1.41421356237\n",
      "220 1.0\n",
      "221 1.41421356237\n",
      "222 1.72538741739\n",
      "223 1.73205080757\n",
      "224 1.99996673885\n",
      "225 1.99226947089\n",
      "226 1.39275051067\n",
      "227 1.41421356237\n",
      "228 1.73147774933\n",
      "229 1.72725051071\n",
      "230 0\n",
      "231 1.73205080757\n",
      "232 1.99996673885\n",
      "233 1.41421356237\n",
      "234 1.0\n",
      "235 1.0\n",
      "236 0\n",
      "237 1.99996673885\n",
      "238 1.41421356237\n",
      "239 1.41421356237\n",
      "240 1.0\n",
      "241 1.40643857653\n",
      "242 1.41421356237\n",
      "243 1.73200075593\n",
      "244 1.99226947089\n",
      "245 1.41421356237\n",
      "246 1.41421356237\n",
      "247 1.73205080757\n",
      "248 1.73205080757\n",
      "249 1.41330405095\n",
      "250 1.41421356237\n",
      "251 1.41330405095\n",
      "252 1.99996673885\n",
      "253 1.0\n",
      "254 1.99982939022\n",
      "255 1.99996673885\n",
      "256 1.41330405095\n",
      "257 1.72538741739\n",
      "258 1.41421356237\n",
      "259 1.40643857653\n",
      "260 1.99982939022\n",
      "261 1.40643857653\n"
     ]
    },
    {
     "name": "stderr",
     "output_type": "stream",
     "text": [
      "C:\\Users\\Pratheesh\\Anaconda3\\lib\\site-packages\\ipykernel_launcher.py:27: RuntimeWarning: invalid value encountered in true_divide\n"
     ]
    }
   ],
   "source": [
    "tfidf_sent_vectors = cal_tfidf_avg_w2v(list_of_sent, w2v_model, tf_idf, tfidf_feat)  #calling the above function for 60k points. It prints the row and weighted sum just to check the progress."
   ]
  },
  {
   "cell_type": "code",
   "execution_count": 25,
   "metadata": {
    "collapsed": true
   },
   "outputs": [],
   "source": [
    "with open('tfidf_sent_vectors.pkl','wb') as pickle_file:  #Saving as pickle file\n",
    "    pickle.dump(sent_vectors,pickle_file)"
   ]
  },
  {
   "cell_type": "code",
   "execution_count": 26,
   "metadata": {
    "collapsed": true
   },
   "outputs": [],
   "source": [
    "with open('tfidf_sent_vectors.pkl','rb') as pickle_file:  #Loading the pickle file for future use\n",
    "    sent_vectors = pickle.load(pickle_file)"
   ]
  },
  {
   "cell_type": "code",
   "execution_count": 27,
   "metadata": {},
   "outputs": [
    {
     "data": {
      "text/plain": [
       "array([  2.24001398e-03,   3.05507950e-03,  -2.88507691e-04,\n",
       "        -2.50458530e-03,   2.96255464e-03,  -5.66456518e-03,\n",
       "        -1.30653611e-03,   1.10560605e-03,   6.22518173e-03,\n",
       "         2.15100523e-03,   9.32937363e-04,  -5.84131636e-04,\n",
       "        -2.32312924e-04,  -1.86356233e-03,   4.25988413e-04,\n",
       "        -3.63399006e-03,  -3.58976974e-04,  -1.42175631e-03,\n",
       "        -4.74543058e-04,   4.32783022e-03,   3.33544129e-03,\n",
       "         1.20418174e-03,   1.96441605e-03,  -4.65783456e-03,\n",
       "        -2.35986955e-03,  -8.27816608e-04,  -5.41105620e-03,\n",
       "         1.15432328e-03,   4.66646050e-03,  -1.75244841e-03,\n",
       "        -1.53787827e-03,  -1.29660815e-03,  -7.79387906e-04,\n",
       "         5.77305110e-04,   4.12708066e-03,   3.84912091e-03,\n",
       "         2.62544155e-03,   4.45707147e-03,   1.37847900e-03,\n",
       "        -2.96967882e-03,  -7.99794138e-03,  -6.67480937e-04,\n",
       "        -3.21507721e-03,  -1.55385273e-03,  -1.83397876e-03,\n",
       "         1.33445688e-03,  -4.36830829e-05,   1.03907939e-03,\n",
       "        -2.36499344e-03,   3.82055814e-03])"
      ]
     },
     "execution_count": 27,
     "metadata": {},
     "output_type": "execute_result"
    }
   ],
   "source": [
    "tfidf_sent_vectors[0]"
   ]
  },
  {
   "cell_type": "markdown",
   "metadata": {},
   "source": [
    "# KNN\n"
   ]
  },
  {
   "cell_type": "code",
   "execution_count": 57,
   "metadata": {},
   "outputs": [
    {
     "data": {
      "text/plain": [
       "(262, 27)"
      ]
     },
     "execution_count": 57,
     "metadata": {},
     "output_type": "execute_result"
    }
   ],
   "source": [
    "X = final.iloc[:,:27].values\n",
    "X.shape"
   ]
  },
  {
   "cell_type": "code",
   "execution_count": 59,
   "metadata": {
    "collapsed": true
   },
   "outputs": [],
   "source": [
    "a = bow.toarray()\n",
    "X = np.append(X,a, axis = 1)"
   ]
  },
  {
   "cell_type": "code",
   "execution_count": 75,
   "metadata": {
    "scrolled": false
   },
   "outputs": [
    {
     "data": {
      "text/plain": [
       "(262, 67)"
      ]
     },
     "execution_count": 75,
     "metadata": {},
     "output_type": "execute_result"
    }
   ],
   "source": [
    "X.shape"
   ]
  },
  {
   "cell_type": "code",
   "execution_count": 77,
   "metadata": {
    "collapsed": true
   },
   "outputs": [],
   "source": [
    "Y = pd.DataFrame(X)"
   ]
  },
  {
   "cell_type": "code",
   "execution_count": 79,
   "metadata": {
    "collapsed": true
   },
   "outputs": [],
   "source": [
    "import yaml\n",
    "\n",
    "\n",
    "Y['Label'] = yaml"
   ]
  },
  {
   "cell_type": "code",
   "execution_count": 80,
   "metadata": {},
   "outputs": [
    {
     "data": {
      "text/plain": [
       "(262, 68)"
      ]
     },
     "execution_count": 80,
     "metadata": {},
     "output_type": "execute_result"
    }
   ],
   "source": [
    "Y.shape"
   ]
  },
  {
   "cell_type": "code",
   "execution_count": 81,
   "metadata": {
    "collapsed": true
   },
   "outputs": [],
   "source": [
    "Y.dropna(axis = 0, inplace = True)"
   ]
  },
  {
   "cell_type": "code",
   "execution_count": 88,
   "metadata": {},
   "outputs": [
    {
     "data": {
      "text/html": [
       "<div>\n",
       "<style>\n",
       "    .dataframe thead tr:only-child th {\n",
       "        text-align: right;\n",
       "    }\n",
       "\n",
       "    .dataframe thead th {\n",
       "        text-align: left;\n",
       "    }\n",
       "\n",
       "    .dataframe tbody tr th {\n",
       "        vertical-align: top;\n",
       "    }\n",
       "</style>\n",
       "<table border=\"1\" class=\"dataframe\">\n",
       "  <thead>\n",
       "    <tr style=\"text-align: right;\">\n",
       "      <th></th>\n",
       "      <th>0</th>\n",
       "      <th>1</th>\n",
       "      <th>2</th>\n",
       "      <th>3</th>\n",
       "      <th>4</th>\n",
       "      <th>5</th>\n",
       "      <th>6</th>\n",
       "      <th>7</th>\n",
       "      <th>8</th>\n",
       "      <th>9</th>\n",
       "      <th>...</th>\n",
       "      <th>58</th>\n",
       "      <th>59</th>\n",
       "      <th>60</th>\n",
       "      <th>61</th>\n",
       "      <th>62</th>\n",
       "      <th>63</th>\n",
       "      <th>64</th>\n",
       "      <th>65</th>\n",
       "      <th>66</th>\n",
       "      <th>Label</th>\n",
       "    </tr>\n",
       "  </thead>\n",
       "  <tbody>\n",
       "    <tr>\n",
       "      <th>0</th>\n",
       "      <td>7.10</td>\n",
       "      <td>0.0</td>\n",
       "      <td>6.85</td>\n",
       "      <td>0.0</td>\n",
       "      <td>7.20</td>\n",
       "      <td>1.0</td>\n",
       "      <td>7.30</td>\n",
       "      <td>0.0</td>\n",
       "      <td>7.60</td>\n",
       "      <td>0.0</td>\n",
       "      <td>...</td>\n",
       "      <td>0.0</td>\n",
       "      <td>0.0</td>\n",
       "      <td>0.0</td>\n",
       "      <td>0.0</td>\n",
       "      <td>0.0</td>\n",
       "      <td>0.0</td>\n",
       "      <td>0.0</td>\n",
       "      <td>0.0</td>\n",
       "      <td>1.0</td>\n",
       "      <td>1</td>\n",
       "    </tr>\n",
       "    <tr>\n",
       "      <th>1</th>\n",
       "      <td>7.20</td>\n",
       "      <td>0.0</td>\n",
       "      <td>7.10</td>\n",
       "      <td>0.0</td>\n",
       "      <td>6.11</td>\n",
       "      <td>0.0</td>\n",
       "      <td>6.67</td>\n",
       "      <td>0.0</td>\n",
       "      <td>7.14</td>\n",
       "      <td>0.0</td>\n",
       "      <td>...</td>\n",
       "      <td>0.0</td>\n",
       "      <td>1.0</td>\n",
       "      <td>0.0</td>\n",
       "      <td>0.0</td>\n",
       "      <td>0.0</td>\n",
       "      <td>0.0</td>\n",
       "      <td>0.0</td>\n",
       "      <td>0.0</td>\n",
       "      <td>0.0</td>\n",
       "      <td>1</td>\n",
       "    </tr>\n",
       "    <tr>\n",
       "      <th>2</th>\n",
       "      <td>3.80</td>\n",
       "      <td>4.0</td>\n",
       "      <td>4.20</td>\n",
       "      <td>2.0</td>\n",
       "      <td>4.20</td>\n",
       "      <td>1.0</td>\n",
       "      <td>3.80</td>\n",
       "      <td>2.0</td>\n",
       "      <td>4.35</td>\n",
       "      <td>0.0</td>\n",
       "      <td>...</td>\n",
       "      <td>0.0</td>\n",
       "      <td>0.0</td>\n",
       "      <td>0.0</td>\n",
       "      <td>0.0</td>\n",
       "      <td>0.0</td>\n",
       "      <td>1.0</td>\n",
       "      <td>0.0</td>\n",
       "      <td>0.0</td>\n",
       "      <td>0.0</td>\n",
       "      <td>0</td>\n",
       "    </tr>\n",
       "    <tr>\n",
       "      <th>3</th>\n",
       "      <td>6.91</td>\n",
       "      <td>1.0</td>\n",
       "      <td>6.60</td>\n",
       "      <td>2.0</td>\n",
       "      <td>5.82</td>\n",
       "      <td>1.0</td>\n",
       "      <td>6.10</td>\n",
       "      <td>0.0</td>\n",
       "      <td>7.71</td>\n",
       "      <td>0.0</td>\n",
       "      <td>...</td>\n",
       "      <td>0.0</td>\n",
       "      <td>0.0</td>\n",
       "      <td>0.0</td>\n",
       "      <td>0.0</td>\n",
       "      <td>0.0</td>\n",
       "      <td>0.0</td>\n",
       "      <td>0.0</td>\n",
       "      <td>0.0</td>\n",
       "      <td>0.0</td>\n",
       "      <td>1</td>\n",
       "    </tr>\n",
       "    <tr>\n",
       "      <th>4</th>\n",
       "      <td>3.50</td>\n",
       "      <td>1.0</td>\n",
       "      <td>3.40</td>\n",
       "      <td>2.0</td>\n",
       "      <td>4.00</td>\n",
       "      <td>2.0</td>\n",
       "      <td>4.10</td>\n",
       "      <td>2.0</td>\n",
       "      <td>3.63</td>\n",
       "      <td>0.0</td>\n",
       "      <td>...</td>\n",
       "      <td>0.0</td>\n",
       "      <td>0.0</td>\n",
       "      <td>0.0</td>\n",
       "      <td>0.0</td>\n",
       "      <td>0.0</td>\n",
       "      <td>0.0</td>\n",
       "      <td>0.0</td>\n",
       "      <td>0.0</td>\n",
       "      <td>0.0</td>\n",
       "      <td>0</td>\n",
       "    </tr>\n",
       "  </tbody>\n",
       "</table>\n",
       "<p>5 rows × 68 columns</p>\n",
       "</div>"
      ],
      "text/plain": [
       "      0    1     2    3     4    5     6    7     8    9  ...     58   59  \\\n",
       "0  7.10  0.0  6.85  0.0  7.20  1.0  7.30  0.0  7.60  0.0  ...    0.0  0.0   \n",
       "1  7.20  0.0  7.10  0.0  6.11  0.0  6.67  0.0  7.14  0.0  ...    0.0  1.0   \n",
       "2  3.80  4.0  4.20  2.0  4.20  1.0  3.80  2.0  4.35  0.0  ...    0.0  0.0   \n",
       "3  6.91  1.0  6.60  2.0  5.82  1.0  6.10  0.0  7.71  0.0  ...    0.0  0.0   \n",
       "4  3.50  1.0  3.40  2.0  4.00  2.0  4.10  2.0  3.63  0.0  ...    0.0  0.0   \n",
       "\n",
       "    60   61   62   63   64   65   66  Label  \n",
       "0  0.0  0.0  0.0  0.0  0.0  0.0  1.0      1  \n",
       "1  0.0  0.0  0.0  0.0  0.0  0.0  0.0      1  \n",
       "2  0.0  0.0  0.0  1.0  0.0  0.0  0.0      0  \n",
       "3  0.0  0.0  0.0  0.0  0.0  0.0  0.0      1  \n",
       "4  0.0  0.0  0.0  0.0  0.0  0.0  0.0      0  \n",
       "\n",
       "[5 rows x 68 columns]"
      ]
     },
     "execution_count": 88,
     "metadata": {},
     "output_type": "execute_result"
    }
   ],
   "source": [
    "Y.head()"
   ]
  },
  {
   "cell_type": "code",
   "execution_count": 82,
   "metadata": {},
   "outputs": [
    {
     "data": {
      "text/plain": [
       "(251, 68)"
      ]
     },
     "execution_count": 82,
     "metadata": {},
     "output_type": "execute_result"
    }
   ],
   "source": [
    "Y.shape"
   ]
  },
  {
   "cell_type": "code",
   "execution_count": 92,
   "metadata": {
    "collapsed": true
   },
   "outputs": [],
   "source": [
    "X = Y.iloc[:,:67].values\n",
    "y = Y['Label'].values"
   ]
  },
  {
   "cell_type": "code",
   "execution_count": 94,
   "metadata": {
    "collapsed": true
   },
   "outputs": [],
   "source": [
    "X_train, X_test, y_train, y_test = train_test_split(X, y, test_size = 0.3, shuffle = False) #Splitting X and Y as 70 % training and 30 % testing with shuffle set to false"
   ]
  },
  {
   "cell_type": "code",
   "execution_count": 96,
   "metadata": {},
   "outputs": [
    {
     "data": {
      "text/plain": [
       "array([[ 0.63075355, -0.84681912,  0.48494022, -0.93615748,  0.77631603,\n",
       "         0.19151807,  0.77955707, -0.64285537,  0.87674287, -0.06324555,\n",
       "         0.48795271, -0.06324555,  0.62135746,  0.        ,  0.50470883,\n",
       "         3.07544035, -0.33259505, -0.58066957, -0.31525441,  0.1928473 ,\n",
       "         0.        , -0.75612208, -0.62804812, -1.7648666 , -0.70288521,\n",
       "        -0.82056891, -0.35434522, -0.15649216, -0.3099514 , -0.1928473 ,\n",
       "        -0.20370021, -0.3099514 , -0.14256649, -0.25210974, -0.29424494,\n",
       "        -0.15649216,  3.96652661, -0.21408721, -0.27794463, -0.22407411,\n",
       "        -0.30216609, -0.30216609, -0.26953585, -0.36843806,  3.83242743,\n",
       "        -0.23371318, -0.14256649, -0.15649216, -0.24304676, -0.21408721,\n",
       "        -0.29424494, -0.30216609, -0.23371318, -0.3099514 , -0.34718254,\n",
       "        -0.1928473 , -0.27794463, -0.3099514 , -0.20370021, -0.33993463,\n",
       "        -0.22407411, -0.22407411, -0.06324555, -0.27794463, -0.3099514 ,\n",
       "        -0.27794463,  3.83242743],\n",
       "       [ 0.68653508, -0.84681912,  0.62266991, -0.93615748,  0.14158917,\n",
       "        -0.90100546,  0.42594886, -0.64285537,  0.61368811, -0.06324555,\n",
       "         0.94480588, -0.06324555,  0.62135746,  0.        ,  0.73317036,\n",
       "        -0.32515669, -0.33259505, -0.58066957,  0.39761818,  0.1928473 ,\n",
       "         0.        , -0.75612208,  1.59223468,  0.56661506, -0.70288521,\n",
       "        -0.82056891,  2.82210661, -0.15649216, -0.3099514 , -0.1928473 ,\n",
       "        -0.20370021, -0.3099514 , -0.14256649, -0.25210974, -0.29424494,\n",
       "        -0.15649216, -0.25210974, -0.21408721, -0.27794463, -0.22407411,\n",
       "        -0.30216609, -0.30216609, -0.26953585,  2.7141604 , -0.26093123,\n",
       "        -0.23371318, -0.14256649, -0.15649216,  4.11443452, -0.21408721,\n",
       "        -0.29424494, -0.30216609, -0.23371318, -0.3099514 , -0.34718254,\n",
       "        -0.1928473 , -0.27794463, -0.3099514 , -0.20370021,  2.94174203,\n",
       "        -0.22407411, -0.22407411, -0.06324555, -0.27794463, -0.3099514 ,\n",
       "        -0.27794463, -0.26093123],\n",
       "       [-1.21003696,  3.44715256, -0.97499454,  1.2701855 , -0.97063864,\n",
       "         0.19151807, -1.18493301,  1.73003724, -0.98179618, -0.06324555,\n",
       "        -1.20973623, -0.06324555, -1.30055835,  0.        , -0.84892572,\n",
       "        -0.32515669, -0.33259505,  0.87681106,  0.39761818,  0.1928473 ,\n",
       "         0.        , -0.75612208, -0.62804812,  0.56661506, -0.70288521,\n",
       "        -0.82056891, -0.35434522, -0.15649216, -0.3099514 ,  5.18544973,\n",
       "        -0.20370021, -0.3099514 , -0.14256649, -0.25210974, -0.29424494,\n",
       "        -0.15649216, -0.25210974, -0.21408721, -0.27794463, -0.22407411,\n",
       "        -0.30216609, -0.30216609, -0.26953585, -0.36843806, -0.26093123,\n",
       "        -0.23371318, -0.14256649, -0.15649216, -0.24304676, -0.21408721,\n",
       "        -0.29424494, -0.30216609, -0.23371318, -0.3099514 , -0.34718254,\n",
       "         5.18544973, -0.27794463, -0.3099514 , -0.20370021, -0.33993463,\n",
       "        -0.22407411, -0.22407411, -0.06324555,  3.59783886, -0.3099514 ,\n",
       "        -0.27794463, -0.26093123],\n",
       "       [ 0.52476864,  0.2266738 ,  0.34721052,  1.2701855 , -0.02728312,\n",
       "         0.19151807,  0.10601762, -0.64285537,  0.93964727, -0.06324555,\n",
       "         0.37514946, -0.06324555,  0.07223866,  0.        , -0.0093296 ,\n",
       "         3.07544035, -0.33259505, -0.58066957,  0.39761818,  0.1928473 ,\n",
       "         0.        , -0.75612208, -0.62804812,  0.56661506, -0.70288521,\n",
       "         1.2186667 , -0.35434522, -0.15649216, -0.3099514 , -0.1928473 ,\n",
       "        -0.20370021,  3.22631228, -0.14256649, -0.25210974, -0.29424494,\n",
       "        -0.15649216, -0.25210974, -0.21408721, -0.27794463, -0.22407411,\n",
       "        -0.30216609, -0.30216609, -0.26953585, -0.36843806, -0.26093123,\n",
       "        -0.23371318, -0.14256649, -0.15649216, -0.24304676, -0.21408721,\n",
       "        -0.29424494, -0.30216609, -0.23371318,  3.22631228, -0.34718254,\n",
       "        -0.1928473 , -0.27794463,  3.22631228, -0.20370021, -0.33993463,\n",
       "        -0.22407411, -0.22407411, -0.06324555, -0.27794463, -0.3099514 ,\n",
       "        -0.27794463, -0.26093123],\n",
       "       [-1.37738156,  0.2266738 , -1.41572957,  1.2701855 , -1.08710228,\n",
       "         1.2840416 , -1.01654815,  1.73003724, -1.39353406, -0.06324555,\n",
       "        -1.54250582, -0.06324555, -1.30055835,  0.        , -0.64331034,\n",
       "        -0.32515669, -0.33259505,  0.87681106,  1.11049077,  0.1928473 ,\n",
       "         0.        , -0.75612208, -0.62804812, -1.7648666 , -0.70288521,\n",
       "        -0.82056891, -0.35434522, -0.15649216, -0.3099514 , -0.1928473 ,\n",
       "        -0.20370021, -0.3099514 , -0.14256649, -0.25210974,  3.39852909,\n",
       "        -0.15649216, -0.25210974, -0.21408721, -0.27794463, -0.22407411,\n",
       "        -0.30216609, -0.30216609, -0.26953585, -0.36843806, -0.26093123,\n",
       "        -0.23371318, -0.14256649, -0.15649216, -0.24304676, -0.21408721,\n",
       "         3.39852909, -0.30216609, -0.23371318, -0.3099514 , -0.34718254,\n",
       "        -0.1928473 , -0.27794463, -0.3099514 , -0.20370021, -0.33993463,\n",
       "        -0.22407411, -0.22407411, -0.06324555, -0.27794463, -0.3099514 ,\n",
       "        -0.27794463, -0.26093123]])"
      ]
     },
     "execution_count": 96,
     "metadata": {},
     "output_type": "execute_result"
    }
   ],
   "source": [
    "#Column Standardization\n",
    "s = StandardScaler()\n",
    "X = s.fit_transform(X)\n",
    "X[:5,:]"
   ]
  },
  {
   "cell_type": "code",
   "execution_count": 97,
   "metadata": {},
   "outputs": [
    {
     "name": "stdout",
     "output_type": "stream",
     "text": [
      "1\n",
      "3\n",
      "5\n",
      "7\n",
      "9\n",
      "11\n",
      "13\n",
      "15\n",
      "17\n",
      "19\n",
      "\n",
      "The optimal number of neighbors is 1.\n"
     ]
    }
   ],
   "source": [
    "#5 fold CV\n",
    "neighbors = list(range(1,20,2))\n",
    "cv_scores = []\n",
    "\n",
    "for k in neighbors:\n",
    "    print(k)\n",
    "    knn = KNeighborsClassifier(n_neighbors = k)\n",
    "    scores = cross_val_score(knn, X_train, y_train, cv = 5, scoring = 'accuracy')\n",
    "    cv_scores.append(scores.mean())\n",
    "    \n",
    "MSE = [1 - x for x in cv_scores]\n",
    "\n",
    "optimal_k = neighbors[MSE.index(min(MSE))]\n",
    "print('\\nThe optimal number of neighbors is %d.' % optimal_k)"
   ]
  },
  {
   "cell_type": "code",
   "execution_count": 99,
   "metadata": {},
   "outputs": [
    {
     "data": {
      "text/plain": [
       "KNeighborsClassifier(algorithm='auto', leaf_size=30, metric='minkowski',\n",
       "           metric_params=None, n_jobs=1, n_neighbors=1, p=2,\n",
       "           weights='uniform')"
      ]
     },
     "execution_count": 99,
     "metadata": {},
     "output_type": "execute_result"
    }
   ],
   "source": [
    "classifier = KNeighborsClassifier(n_neighbors = optimal_k)    ## Change the values of n_neighbors to the optimal value of k\n",
    "classifier.fit(X_train, y_train)"
   ]
  },
  {
   "cell_type": "code",
   "execution_count": 100,
   "metadata": {
    "collapsed": true
   },
   "outputs": [],
   "source": [
    "Y_pred = classifier.predict(X_test)  "
   ]
  },
  {
   "cell_type": "code",
   "execution_count": 103,
   "metadata": {},
   "outputs": [
    {
     "data": {
      "text/plain": [
       "100.0"
      ]
     },
     "execution_count": 103,
     "metadata": {},
     "output_type": "execute_result"
    }
   ],
   "source": [
    "acc = accuracy_score(y_test, Y_pred, normalize=True) * float(100)   #Calculating accuracy\n",
    "acc  "
   ]
  },
  {
   "cell_type": "markdown",
   "metadata": {},
   "source": [
    "# Logistic Regression"
   ]
  },
  {
   "cell_type": "code",
   "execution_count": 105,
   "metadata": {
    "collapsed": true
   },
   "outputs": [],
   "source": [
    "# Values for the hyperparameter 'C':\n",
    "tuned_params = [{'C': [0.0001,0.001,0.01,0.1,1,10,100,1000,10000]}]\n",
    "X_train, X_test, y_train, y_test = train_test_split(X, y, test_size = 0.3, shuffle = False)"
   ]
  },
  {
   "cell_type": "code",
   "execution_count": 106,
   "metadata": {},
   "outputs": [
    {
     "data": {
      "text/plain": [
       "GridSearchCV(cv=None, error_score='raise',\n",
       "       estimator=LogisticRegression(C=1.0, class_weight=None, dual=False, fit_intercept=True,\n",
       "          intercept_scaling=1, max_iter=100, multi_class='ovr', n_jobs=1,\n",
       "          penalty='l2', random_state=None, solver='liblinear', tol=0.0001,\n",
       "          verbose=0, warm_start=False),\n",
       "       fit_params=None, iid=True, n_jobs=1,\n",
       "       param_grid=[{'C': [0.0001, 0.001, 0.01, 0.1, 1, 10, 100, 1000, 10000]}],\n",
       "       pre_dispatch='2*n_jobs', refit=True, return_train_score='warn',\n",
       "       scoring='accuracy', verbose=0)"
      ]
     },
     "execution_count": 106,
     "metadata": {},
     "output_type": "execute_result"
    }
   ],
   "source": [
    "# Grid Search\n",
    "model = GridSearchCV(LogisticRegression(), tuned_params, scoring = 'accuracy')\n",
    "model.fit(X_train, y_train)"
   ]
  },
  {
   "cell_type": "code",
   "execution_count": 107,
   "metadata": {},
   "outputs": [
    {
     "name": "stdout",
     "output_type": "stream",
     "text": [
      "LogisticRegression(C=0.0001, class_weight=None, dual=False,\n",
      "          fit_intercept=True, intercept_scaling=1, max_iter=100,\n",
      "          multi_class='ovr', n_jobs=1, penalty='l2', random_state=None,\n",
      "          solver='liblinear', tol=0.0001, verbose=0, warm_start=False)\n",
      "0.986842105263\n"
     ]
    }
   ],
   "source": [
    "print(model.best_estimator_)\n",
    "print(model.score(X_test, y_test))"
   ]
  },
  {
   "cell_type": "code",
   "execution_count": 108,
   "metadata": {},
   "outputs": [
    {
     "data": {
      "text/plain": [
       "98.68421052631578"
      ]
     },
     "execution_count": 108,
     "metadata": {},
     "output_type": "execute_result"
    }
   ],
   "source": [
    "clf = LogisticRegression(C = 0.0001)\n",
    "clf.fit(X_train, y_train)\n",
    "y_pred = clf.predict(X_test)\n",
    "acc = accuracy_score(y_test, y_pred)*float(100)\n",
    "acc"
   ]
  },
  {
   "cell_type": "code",
   "execution_count": 111,
   "metadata": {},
   "outputs": [
    {
     "data": {
      "text/plain": [
       "array([[25,  1],\n",
       "       [ 0, 50]], dtype=int64)"
      ]
     },
     "execution_count": 111,
     "metadata": {},
     "output_type": "execute_result"
    }
   ],
   "source": [
    "confusion_matrix(y_test, y_pred).T"
   ]
  },
  {
   "cell_type": "code",
   "execution_count": null,
   "metadata": {
    "collapsed": true
   },
   "outputs": [],
   "source": []
  }
 ],
 "metadata": {
  "kernelspec": {
   "display_name": "Python 3",
   "language": "python",
   "name": "python3"
  },
  "language_info": {
   "codemirror_mode": {
    "name": "ipython",
    "version": 3
   },
   "file_extension": ".py",
   "mimetype": "text/x-python",
   "name": "python",
   "nbconvert_exporter": "python",
   "pygments_lexer": "ipython3",
   "version": "3.6.4"
  }
 },
 "nbformat": 4,
 "nbformat_minor": 2
}
